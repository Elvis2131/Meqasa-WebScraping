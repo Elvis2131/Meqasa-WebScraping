{
 "cells": [
  {
   "cell_type": "code",
   "execution_count": null,
   "metadata": {},
   "outputs": [],
   "source": [
    "from bs4 import BeautifulSoup\n",
    "import pandas as pd\n",
    "import requests"
   ]
  },
  {
   "cell_type": "code",
   "execution_count": null,
   "metadata": {},
   "outputs": [],
   "source": [
    "garage = []\n",
    "address = []\n",
    "broker = []\n",
    "area = []\n",
    "description = []\n",
    "broker = []\n",
    "posting = []\n",
    "property_title = []\n",
    "property_url = []\n",
    "bedCount = []\n",
    "priceCount = []\n",
    "showerCount = []"
   ]
  },
  {
   "cell_type": "code",
   "execution_count": null,
   "metadata": {},
   "outputs": [],
   "source": [
    "for x in range(1,11):\n",
    "    results = requests.get('https://meqasa.com/houses-for-rent-in-ghana?w='+str(x))\n",
    "    soup = BeautifulSoup(results.content, 'html.parser')\n",
    "    container = soup.find('div', class_='filtRpg')\n",
    "\n",
    "    for info in container.find_all('div', class_='mqs-prop-dt-wrapper'):\n",
    "        property_title.append(info.find('h2').text)\n",
    "        bedCount.append(info.find('li', class_='bed').text)\n",
    "        property_url.append('https://meqasa.com'+ info.find('a', href=True)['href'])\n",
    "        priceCount.append(info.find('p', class_='h3').text.replace('\\n', '').replace('$', ' $').replace('GH₵', ' GH₵').replace(' / month', '').replace(' / day', '').replace('Price ','').replace('Price:',''))\n",
    "        showerCount.append(info.find('li', class_='shower').get_text())\n",
    "    \n",
    "        if info.find('li',class_='garage') is None:\n",
    "            garage.append('n.a')\n",
    "        else:\n",
    "            garage.append(info.find('li',class_='garage').text)\n",
    "        \n",
    "        if info.find('li',class_='area') is None:\n",
    "            area.append('n.a')\n",
    "        else:\n",
    "            area.append(info.find('li',class_='area').text)\n",
    "\n",
    "        more_info = requests.get(property_url[len(property_url) -1])\n",
    "        info_soup = BeautifulSoup(more_info.content, 'html.parser')\n",
    "        results = info_soup.find('div', class_='description').text.replace('\\n','')\n",
    "        description.append(results)\n",
    "\n",
    "        for cells in info_soup.find_all('table'):\n",
    "            cell = cells.find_all('td')\n",
    "            address.append(cell[-2].get_text())\n",
    "            \n",
    "        for date in info_soup.find_all('p', class_='listed-by-text'):\n",
    "            answer = date.get_text().replace('Updated on ','').replace(' by:','')\n",
    "            posting.append(answer)\n",
    "\n",
    "        for agent in info_soup.find_all('h2', class_='agent-name'):\n",
    "            broker.append(agent.get_text().replace('\\n',''))"
   ]
  },
  {
   "cell_type": "code",
   "execution_count": null,
   "metadata": {},
   "outputs": [],
   "source": [
    "print(len(property_title))\n",
    "print(len(bedCount))\n",
    "print(len(property_url))\n",
    "print(len(priceCount))\n",
    "print(len(showerCount))\n",
    "print(len(address))\n",
    "print(len(posting))\n",
    "print(len(garage))\n",
    "print(len(area))\n",
    "print(len(property_url))"
   ]
  },
  {
   "cell_type": "code",
   "execution_count": null,
   "metadata": {},
   "outputs": [],
   "source": [
    "df = pd.DataFrame({\n",
    "    'Title': property_title,\n",
    "    'No. of bedroom': bedCount,\n",
    "    'No. of bathroom': showerCount,\n",
    "    'Garage size': garage,\n",
    "    'Area': area,\n",
    "    'Address': address,\n",
    "    'Price': priceCount,\n",
    "    'Date Posted': posting,\n",
    "    'URL': property_url\n",
    "})"
   ]
  }
 ],
 "metadata": {
  "kernelspec": {
   "display_name": "Python 3",
   "language": "python",
   "name": "python3"
  },
  "language_info": {
   "codemirror_mode": {
    "name": "ipython",
    "version": 3
   },
   "file_extension": ".py",
   "mimetype": "text/x-python",
   "name": "python",
   "nbconvert_exporter": "python",
   "pygments_lexer": "ipython3",
   "version": "3.7.3"
  }
 },
 "nbformat": 4,
 "nbformat_minor": 2
}